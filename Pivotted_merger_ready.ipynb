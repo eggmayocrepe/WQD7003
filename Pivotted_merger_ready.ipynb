{
 "cells": [
  {
   "cell_type": "code",
   "execution_count": 250,
   "id": "77a642c5",
   "metadata": {},
   "outputs": [],
   "source": [
    "import pandas as pd"
   ]
  },
  {
   "cell_type": "code",
   "execution_count": 251,
   "id": "5fa7a53b",
   "metadata": {},
   "outputs": [
    {
     "data": {
      "text/html": [
       "<div>\n",
       "<style scoped>\n",
       "    .dataframe tbody tr th:only-of-type {\n",
       "        vertical-align: middle;\n",
       "    }\n",
       "\n",
       "    .dataframe tbody tr th {\n",
       "        vertical-align: top;\n",
       "    }\n",
       "\n",
       "    .dataframe thead th {\n",
       "        text-align: right;\n",
       "    }\n",
       "</style>\n",
       "<table border=\"1\" class=\"dataframe\">\n",
       "  <thead>\n",
       "    <tr style=\"text-align: right;\">\n",
       "      <th></th>\n",
       "      <th>Column1</th>\n",
       "      <th>Year</th>\n",
       "      <th>Item</th>\n",
       "      <th>continents</th>\n",
       "      <th>Area</th>\n",
       "      <th>Flag Description</th>\n",
       "      <th>Unit</th>\n",
       "      <th>Value</th>\n",
       "    </tr>\n",
       "  </thead>\n",
       "  <tbody>\n",
       "    <tr>\n",
       "      <th>0</th>\n",
       "      <td>0</td>\n",
       "      <td>2000</td>\n",
       "      <td>Average dietary energy requirement (kcal/cap/day)</td>\n",
       "      <td>Africa</td>\n",
       "      <td>Algeria</td>\n",
       "      <td>Estimated value</td>\n",
       "      <td>kcal/cap/d</td>\n",
       "      <td>2308.0</td>\n",
       "    </tr>\n",
       "    <tr>\n",
       "      <th>1</th>\n",
       "      <td>1</td>\n",
       "      <td>2000</td>\n",
       "      <td>Average dietary energy requirement (kcal/cap/day)</td>\n",
       "      <td>Africa</td>\n",
       "      <td>Angola</td>\n",
       "      <td>Estimated value</td>\n",
       "      <td>kcal/cap/d</td>\n",
       "      <td>2121.0</td>\n",
       "    </tr>\n",
       "    <tr>\n",
       "      <th>2</th>\n",
       "      <td>2</td>\n",
       "      <td>2000</td>\n",
       "      <td>Average dietary energy requirement (kcal/cap/day)</td>\n",
       "      <td>Africa</td>\n",
       "      <td>Benin</td>\n",
       "      <td>Estimated value</td>\n",
       "      <td>kcal/cap/d</td>\n",
       "      <td>2165.0</td>\n",
       "    </tr>\n",
       "    <tr>\n",
       "      <th>3</th>\n",
       "      <td>3</td>\n",
       "      <td>2000</td>\n",
       "      <td>Average dietary energy requirement (kcal/cap/day)</td>\n",
       "      <td>Africa</td>\n",
       "      <td>Botswana</td>\n",
       "      <td>Estimated value</td>\n",
       "      <td>kcal/cap/d</td>\n",
       "      <td>2286.0</td>\n",
       "    </tr>\n",
       "    <tr>\n",
       "      <th>4</th>\n",
       "      <td>4</td>\n",
       "      <td>2000</td>\n",
       "      <td>Average dietary energy requirement (kcal/cap/day)</td>\n",
       "      <td>Africa</td>\n",
       "      <td>Burkina Faso</td>\n",
       "      <td>Estimated value</td>\n",
       "      <td>kcal/cap/d</td>\n",
       "      <td>2183.0</td>\n",
       "    </tr>\n",
       "  </tbody>\n",
       "</table>\n",
       "</div>"
      ],
      "text/plain": [
       "   Column1  Year                                               Item  \\\n",
       "0        0  2000  Average dietary energy requirement (kcal/cap/day)   \n",
       "1        1  2000  Average dietary energy requirement (kcal/cap/day)   \n",
       "2        2  2000  Average dietary energy requirement (kcal/cap/day)   \n",
       "3        3  2000  Average dietary energy requirement (kcal/cap/day)   \n",
       "4        4  2000  Average dietary energy requirement (kcal/cap/day)   \n",
       "\n",
       "  continents          Area Flag Description        Unit   Value  \n",
       "0     Africa       Algeria  Estimated value  kcal/cap/d  2308.0  \n",
       "1     Africa        Angola  Estimated value  kcal/cap/d  2121.0  \n",
       "2     Africa         Benin  Estimated value  kcal/cap/d  2165.0  \n",
       "3     Africa      Botswana  Estimated value  kcal/cap/d  2286.0  \n",
       "4     Africa  Burkina Faso  Estimated value  kcal/cap/d  2183.0  "
      ]
     },
     "execution_count": 251,
     "metadata": {},
     "output_type": "execute_result"
    }
   ],
   "source": [
    "df = pd.read_csv(\"FAOSTAT.csv\")\n",
    "\n",
    "df.head()"
   ]
  },
  {
   "cell_type": "code",
   "execution_count": 252,
   "id": "a5a6c1d6",
   "metadata": {},
   "outputs": [
    {
     "data": {
      "text/plain": [
       "array(['Estimated value', 'Figure from international organizations',\n",
       "       'Missing value', 'Missing value; suppressed', 'Official figure'],\n",
       "      dtype=object)"
      ]
     },
     "execution_count": 252,
     "metadata": {},
     "output_type": "execute_result"
    }
   ],
   "source": [
    "df['Flag Description'].unique()"
   ]
  },
  {
   "cell_type": "code",
   "execution_count": 253,
   "id": "cb65c318",
   "metadata": {},
   "outputs": [],
   "source": [
    "# Drop rows where flag description is \"Missing Value\", \"Missing value; suppressed\"\n",
    "df['Flag Description'].unique()\n",
    "\n",
    "df = df[~df['Flag Description'].isin([\"Missing value\", \"Missing value; suppressed\"])]"
   ]
  },
  {
   "cell_type": "code",
   "execution_count": 254,
   "id": "716ba390",
   "metadata": {},
   "outputs": [],
   "source": [
    "pivot_df = df.pivot_table(index = ['Year','continents','Area','Flag Description'], columns = 'Item',values= 'Value').reset_index()"
   ]
  },
  {
   "cell_type": "code",
   "execution_count": 255,
   "id": "25474ee7",
   "metadata": {},
   "outputs": [],
   "source": [
    "# Expand interval years for richer dataset\n",
    "\n",
    "## Input is a series\n",
    "def expand_year(row):\n",
    "    y = row[\"Year\"]\n",
    "    if isinstance(y, str) and \"-\" in y:\n",
    "        start, end = map(int, y.split(\"-\"))\n",
    "        expanded = []\n",
    "        for yr in range(start, end + 1):\n",
    "            row_copy = row.copy()\n",
    "            row_copy[\"Year\"] = str(yr)\n",
    "            expanded.append(row_copy)\n",
    "        return expanded\n",
    "    else:\n",
    "        return [row]\n",
    "    \n",
    "   "
   ]
  },
  {
   "cell_type": "code",
   "execution_count": 256,
   "id": "d6dbc818",
   "metadata": {},
   "outputs": [
    {
     "name": "stdout",
     "output_type": "stream",
     "text": [
      "Column1                                                             0\n",
      "Year                                                             2000\n",
      "Item                Average dietary energy requirement (kcal/cap/day)\n",
      "continents                                                     Africa\n",
      "Area                                                          Algeria\n",
      "Flag Description                                      Estimated value\n",
      "Unit                                                       kcal/cap/d\n",
      "Value                                                          2308.0\n",
      "Name: 0, dtype: object\n"
     ]
    }
   ],
   "source": [
    "for _, row in df.iterrows():\n",
    "    print(row)\n",
    "    break"
   ]
  },
  {
   "cell_type": "code",
   "execution_count": 257,
   "id": "a5e76bb8",
   "metadata": {},
   "outputs": [],
   "source": [
    "# Expand rows\n",
    "expanded_rows = []\n",
    "for _, row in pivot_df.iterrows():\n",
    "    expanded_rows.extend(expand_year(row))\n",
    "\n",
    "# Recreate the DataFrame\n",
    "df_expanded = pd.DataFrame(expanded_rows)"
   ]
  },
  {
   "cell_type": "code",
   "execution_count": 258,
   "id": "3270ba70",
   "metadata": {},
   "outputs": [],
   "source": [
    "# Define columns that are used to identify unique rows\n",
    "key_cols = ['Year', 'continents', 'Area','Flag Description']\n",
    "\n",
    "# Merge rows by taking first non-null for each group\n",
    "df_merged = (\n",
    "    df_expanded\n",
    "    .groupby(key_cols, as_index=False)\n",
    "    .first()\n",
    ")"
   ]
  },
  {
   "cell_type": "code",
   "execution_count": 259,
   "id": "84a5f70f",
   "metadata": {},
   "outputs": [],
   "source": [
    "# df_merged.to_csv(\"Pivotted_considering_flag.csv\",index=False)"
   ]
  },
  {
   "cell_type": "markdown",
   "id": "ffd283ed",
   "metadata": {},
   "source": [
    "## Break"
   ]
  },
  {
   "cell_type": "code",
   "execution_count": 260,
   "id": "e784aa74",
   "metadata": {},
   "outputs": [],
   "source": [
    "conflict_columns = {}\n",
    "\n",
    "# Check for conflicts\n",
    "value_columns = [col for col in df_merged.columns if col not in ['Year', 'Area','continents', 'Flag Description']]\n",
    "\n",
    "for col in value_columns:\n",
    "    sub_df = df_merged[[col, 'Flag Description']].dropna(subset=[col])\n",
    "    flags_present = sub_df['Flag Description'].unique()\n",
    "    \n",
    "    if len(flags_present) > 1:\n",
    "        conflict_columns[col] = flags_present.tolist()"
   ]
  },
  {
   "cell_type": "code",
   "execution_count": 261,
   "id": "bb732340",
   "metadata": {},
   "outputs": [],
   "source": [
    "# conflict_columns"
   ]
  },
  {
   "cell_type": "code",
   "execution_count": 267,
   "id": "628e72d4",
   "metadata": {},
   "outputs": [],
   "source": [
    "conflicted_cols = list(conflict_columns.keys())\n",
    "non_conflicted_cols = [col for col in value_columns if col not in conflicted_cols]\n",
    "\n",
    "# Define flag priority\n",
    "flag_priority = {\n",
    "    'Official figure': 0,\n",
    "    'Estimated value': 1,\n",
    "    'Figure from international organizations': 2 # Not really needed because it does not conflict with other flags\n",
    "}\n",
    "\n",
    "# Assign flag rank\n",
    "df_merged['Flag Rank'] = df_merged['Flag Description'].map(flag_priority)\n",
    "\n",
    "# Keep only necessary columns for conflicted + rank\n",
    "df_conflicted = df_merged[['Year', 'continents', 'Area', 'Flag Rank'] + conflicted_cols].copy()\n",
    "# df_conflicted = df_conflicted.sort_values(by=['Year', 'continents', 'Area', 'Flag Rank'])\n",
    "# df_conflicted_cleaned = df_conflicted.drop_duplicates(subset=['Year', 'continents', 'Area'], keep='first')\n",
    "df_conflicted_cleaned = (\n",
    "    df_conflicted\n",
    "    .sort_values(by=['Year', 'continents', 'Area', 'Flag Rank'])\n",
    "    .groupby(['Year', 'continents', 'Area'], as_index=False)\n",
    "    .first()\n",
    ")\n",
    "\n",
    "# Handle non-conflicted columns using .first()\n",
    "df_non_conflicted = (\n",
    "    df_merged[['Year', 'continents', 'Area'] + non_conflicted_cols]\n",
    "    .groupby(['Year', 'continents', 'Area'], as_index=False)\n",
    "    .first()\n",
    ")\n",
    "\n",
    "# Final merge\n",
    "df_final = pd.merge(df_non_conflicted, df_conflicted_cleaned, on=['Year', 'continents', 'Area'], how='outer')\n",
    "df_final = df_final.drop(columns=['Flag Rank'])\n",
    "\n",
    "\n",
    "group_keys = ['Year', 'continents', 'Area']\n",
    "other_cols = sorted([col for col in df_final.columns if col not in group_keys])\n",
    "\n",
    "df_final1 = df_final[group_keys + other_cols]\n"
   ]
  },
  {
   "cell_type": "code",
   "execution_count": 273,
   "id": "84e20d77",
   "metadata": {},
   "outputs": [],
   "source": [
    "df_final1.to_csv(\"Pivotted_final_updated.csv\")"
   ]
  }
 ],
 "metadata": {
  "kernelspec": {
   "display_name": "base",
   "language": "python",
   "name": "python3"
  },
  "language_info": {
   "codemirror_mode": {
    "name": "ipython",
    "version": 3
   },
   "file_extension": ".py",
   "mimetype": "text/x-python",
   "name": "python",
   "nbconvert_exporter": "python",
   "pygments_lexer": "ipython3",
   "version": "3.11.11"
  }
 },
 "nbformat": 4,
 "nbformat_minor": 5
}
